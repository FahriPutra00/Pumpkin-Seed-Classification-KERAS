{
 "cells": [
  {
   "cell_type": "code",
   "execution_count": 3,
   "id": "6028b933",
   "metadata": {
    "_cell_guid": "b1076dfc-b9ad-4769-8c92-a6c4dae69d19",
    "_uuid": "8f2839f25d086af736a60e9eeb907d3b93b6e0e5",
    "execution": {
     "iopub.execute_input": "2022-10-28T01:53:31.477418Z",
     "iopub.status.busy": "2022-10-28T01:53:31.477002Z",
     "iopub.status.idle": "2022-10-28T01:53:40.390838Z",
     "shell.execute_reply": "2022-10-28T01:53:40.388625Z"
    },
    "papermill": {
     "duration": 8.924631,
     "end_time": "2022-10-28T01:53:40.393964",
     "exception": false,
     "start_time": "2022-10-28T01:53:31.469333",
     "status": "completed"
    },
    "tags": []
   },
   "outputs": [],
   "source": [
    "# standard libraries\n",
    "import numpy as np # linear algebra\n",
    "import pandas as pd # data processing, CSV file I/O (e.g. pd.read_csv)\n",
    "import warnings\n",
    "warnings.simplefilter('ignore')\n",
    "import gc\n",
    "\n",
    "# keras libraries\n",
    "import tensorflow\n",
    "from tensorflow import keras\n",
    "from keras import models\n",
    "from keras import layers\n",
    "from keras import metrics\n",
    "from keras.metrics import Precision\n",
    "from tqdm.keras import TqdmCallback\n",
    "from keras.backend import clear_session\n",
    "\n",
    "# sklearn libraries\n",
    "from sklearn.model_selection import train_test_split\n",
    "from sklearn.preprocessing import LabelEncoder\n",
    "from sklearn.feature_selection import mutual_info_classif\n",
    "from sklearn.metrics import confusion_matrix, classification_report\n",
    "from sklearn.preprocessing import RobustScaler,MinMaxScaler,StandardScaler\n",
    "\n",
    "# visualisation\n",
    "import seaborn as sns\n",
    "import matplotlib.pyplot as plt"
   ]
  },
  {
   "cell_type": "markdown",
   "id": "0a9c78e2",
   "metadata": {
    "papermill": {
     "duration": 0.004737,
     "end_time": "2022-10-28T01:53:40.404355",
     "exception": false,
     "start_time": "2022-10-28T01:53:40.399618",
     "status": "completed"
    },
    "tags": []
   },
   "source": [
    "### Load Data"
   ]
  },
  {
   "cell_type": "code",
   "execution_count": 4,
   "id": "cd764db2",
   "metadata": {
    "execution": {
     "iopub.execute_input": "2022-10-28T01:53:40.417597Z",
     "iopub.status.busy": "2022-10-28T01:53:40.416891Z",
     "iopub.status.idle": "2022-10-28T01:53:41.396299Z",
     "shell.execute_reply": "2022-10-28T01:53:41.393397Z"
    },
    "papermill": {
     "duration": 0.989854,
     "end_time": "2022-10-28T01:53:41.399089",
     "exception": false,
     "start_time": "2022-10-28T01:53:40.409235",
     "status": "completed"
    },
    "tags": []
   },
   "outputs": [
    {
     "name": "stdout",
     "output_type": "stream",
     "text": [
      "There are 2500 records with 2 classes\n",
      "Classes are: Çerçevelik, Ürgüp Sivrisi\n"
     ]
    }
   ],
   "source": [
    "# load data\n",
    "file = 'D:\\CODING\\SMT5\\SoftCompPrak\\DataSet\\Pumpkin_Seeds_Dataset\\Pumpkin_Seeds_Dataset.xlsx'\n",
    "df = pd.read_excel(file, sheet_name='Pumpkin_Seeds_Dataset',engine='openpyxl')\n",
    "\n",
    "# drop NULLs\n",
    "df.dropna(inplace=True)\n",
    "\n",
    "# encoding the target\n",
    "le = LabelEncoder()\n",
    "df.Class = le.fit_transform(df['Class']) \n",
    "\n",
    "# print details\n",
    "print(f\"There are {df.shape[0]} records with {df.Class.nunique()} classes\")\n",
    "print(f\"Classes are: {', '.join(x for x in list(le.classes_))}\")"
   ]
  },
  {
   "cell_type": "markdown",
   "id": "d15cb0bd",
   "metadata": {
    "papermill": {
     "duration": 0.004312,
     "end_time": "2022-10-28T01:53:41.408577",
     "exception": false,
     "start_time": "2022-10-28T01:53:41.404265",
     "status": "completed"
    },
    "tags": []
   },
   "source": [
    "### Feature Engineering & Selection"
   ]
  },
  {
   "cell_type": "code",
   "execution_count": 5,
   "id": "5d3ea3b3",
   "metadata": {
    "execution": {
     "iopub.execute_input": "2022-10-28T01:53:41.420608Z",
     "iopub.status.busy": "2022-10-28T01:53:41.420239Z",
     "iopub.status.idle": "2022-10-28T01:53:41.437984Z",
     "shell.execute_reply": "2022-10-28T01:53:41.436510Z"
    },
    "papermill": {
     "duration": 0.026769,
     "end_time": "2022-10-28T01:53:41.440567",
     "exception": false,
     "start_time": "2022-10-28T01:53:41.413798",
     "status": "completed"
    },
    "tags": []
   },
   "outputs": [],
   "source": [
    "# define features and target\n",
    "X = df.drop('Class',axis=1)\n",
    "y = df[['Class']]\n",
    "\n",
    "# converting all the features (which are not) to float \n",
    "int_cols = X.select_dtypes(include=np.int_).columns.tolist()\n",
    "for c in int_cols:\n",
    "    X[c] = X[c].astype('float')\n",
    "    \n",
    "# split training & test data [80-20 split]\n",
    "X_train, X_test, y_train, y_test = train_test_split(X, y, test_size=0.20, random_state=np.random.randint(100))"
   ]
  },
  {
   "cell_type": "code",
   "execution_count": 6,
   "id": "ce409c2b",
   "metadata": {
    "_kg_hide-input": true,
    "execution": {
     "iopub.execute_input": "2022-10-28T01:53:41.451962Z",
     "iopub.status.busy": "2022-10-28T01:53:41.451346Z",
     "iopub.status.idle": "2022-10-28T01:53:41.818711Z",
     "shell.execute_reply": "2022-10-28T01:53:41.817513Z"
    },
    "papermill": {
     "duration": 0.375958,
     "end_time": "2022-10-28T01:53:41.821247",
     "exception": false,
     "start_time": "2022-10-28T01:53:41.445289",
     "status": "completed"
    },
    "tags": []
   },
   "outputs": [
    {
     "data": {
      "image/png": "[encoded data removed]",
      "text/plain": [
       "<Figure size 2016x72 with 1 Axes>"
      ]
     },
     "metadata": {
      "needs_background": "light"
     },
     "output_type": "display_data"
    }
   ],
   "source": [
    "# Feature selection\n",
    "mutual_information = mutual_info_classif(X_train, y_train, n_neighbors=5, copy = True)\n",
    "\n",
    "plt.subplots(1, figsize=(28, 1))\n",
    "sns.color_palette(\"Set2\")\n",
    "sns.heatmap(mutual_information[:, np.newaxis].T, cmap=sns.color_palette(\"ch:start=.2,rot=-.3\", as_cmap=True), cbar=False, linewidths=1, annot=True, annot_kws={\"size\": 10})\n",
    "plt.yticks([], [])\n",
    "plt.gca().set_xticklabels(X.columns, rotation=25, ha='right', fontsize=11)\n",
    "plt.suptitle(\"Feature Importance\", fontsize=12, y=1.2)\n",
    "plt.gcf().subplots_adjust(wspace=0.4)"
   ]
  },
  {
   "cell_type": "markdown",
   "id": "56df0546",
   "metadata": {
    "papermill": {
     "duration": 0.004654,
     "end_time": "2022-10-28T01:53:41.831383",
     "exception": false,
     "start_time": "2022-10-28T01:53:41.826729",
     "status": "completed"
    },
    "tags": []
   },
   "source": [
    "**As observed from the above map, the following features have more effect on the target than others:**\n",
    "\n",
    "* Eccentricity\n",
    "* Roundness\n",
    "* Aspect_Ration\n",
    "* Compactness\n",
    "* Major_Axis_Length"
   ]
  },
  {
   "cell_type": "code",
   "execution_count": 7,
   "id": "3802370a",
   "metadata": {
    "execution": {
     "iopub.execute_input": "2022-10-28T01:53:41.843776Z",
     "iopub.status.busy": "2022-10-28T01:53:41.843414Z",
     "iopub.status.idle": "2022-10-28T01:53:41.859859Z",
     "shell.execute_reply": "2022-10-28T01:53:41.858327Z"
    },
    "papermill": {
     "duration": 0.026506,
     "end_time": "2022-10-28T01:53:41.862938",
     "exception": false,
     "start_time": "2022-10-28T01:53:41.836432",
     "status": "completed"
    },
    "tags": []
   },
   "outputs": [
    {
     "name": "stdout",
     "output_type": "stream",
     "text": [
      "Training Records = 2000 ; Validation Record 500 \n"
     ]
    }
   ],
   "source": [
    "# new feature list\n",
    "imp_cols = ['Eccentricity', 'Roundness', 'Aspect_Ration', 'Compactness', 'Major_Axis_Length']\n",
    "X_new = X[imp_cols]\n",
    "\n",
    "# scaling the features\n",
    "rs = RobustScaler()\n",
    "X_scaled = rs.fit_transform(X_new)\n",
    "\n",
    "# split training & test data [80-20 split] -- again\n",
    "X_train, X_test, y_train, y_test = train_test_split(X_scaled, y, test_size=0.20, random_state=np.random.randint(100))\n",
    "\n",
    "# record stats\n",
    "print(f\"Training Records = {X_train.shape[0]} ; Validation Record {X_test.shape[0]} \")"
   ]
  },
  {
   "cell_type": "markdown",
   "id": "01b56e1b",
   "metadata": {
    "papermill": {
     "duration": 0.004254,
     "end_time": "2022-10-28T01:53:41.872274",
     "exception": false,
     "start_time": "2022-10-28T01:53:41.868020",
     "status": "completed"
    },
    "tags": []
   },
   "source": [
    "### Build & Fit Model"
   ]
  },
  {
   "cell_type": "code",
   "execution_count": 8,
   "id": "23b5116c",
   "metadata": {
    "execution": {
     "iopub.execute_input": "2022-10-28T01:53:41.887957Z",
     "iopub.status.busy": "2022-10-28T01:53:41.887256Z",
     "iopub.status.idle": "2022-10-28T01:53:42.051562Z",
     "shell.execute_reply": "2022-10-28T01:53:42.048777Z"
    },
    "papermill": {
     "duration": 0.177788,
     "end_time": "2022-10-28T01:53:42.054568",
     "exception": false,
     "start_time": "2022-10-28T01:53:41.876780",
     "status": "completed"
    },
    "tags": []
   },
   "outputs": [
    {
     "name": "stdout",
     "output_type": "stream",
     "text": [
      "Model: \"sequential\"\n",
      "_________________________________________________________________\n",
      " Layer (type)                Output Shape              Param #   \n",
      "=================================================================\n",
      " input_layer (Dense)         (None, 16)                96        \n",
      "                                                                 \n",
      " hidden_nides (Dense)        (None, 5)                 85        \n",
      "                                                                 \n",
      " dropout (Dropout)           (None, 5)                 0         \n",
      "                                                                 \n",
      " output_layer (Dense)        (None, 1)                 6         \n",
      "                                                                 \n",
      "=================================================================\n",
      "Total params: 187\n",
      "Trainable params: 187\n",
      "Non-trainable params: 0\n",
      "_________________________________________________________________\n"
     ]
    }
   ],
   "source": [
    "# define model params\n",
    "input_shape = X_train.shape[1]                                                         \n",
    "output_shape = y_train.shape[1]                                                           \n",
    "nodes = np.ceil(2 * input_shape / 3 + output_shape).astype(int)                         \n",
    "batch_size = np.ceil(len(X_train) / 128).astype(int)                                     \n",
    "\n",
    "# build model\n",
    "model = models.Sequential()\n",
    "# input layer\n",
    "model.add(layers.Dense(\n",
    "                        batch_size\n",
    "                       ,input_shape=(input_shape,)\n",
    "                       ,name='input_layer'\n",
    "                       ,activation='selu'))\n",
    "# hidden layer\n",
    "model.add(layers.Dense(\n",
    "                        nodes\n",
    "                        ,name='hidden_nides'\n",
    "                       ,activation='selu'))\n",
    "# dropout layer\n",
    "model.add(layers.Dropout(0.5))\n",
    "\n",
    "# output layer\n",
    "model.add(layers.Dense(\n",
    "                        output_shape\n",
    "                        ,name='output_layer'\n",
    "                       ,activation='sigmoid'))\n",
    "\n",
    "# compile model\n",
    "model.compile(loss='binary_crossentropy', optimizer='adam', metrics=['accuracy'])\n",
    "\n",
    "# summmary\n",
    "model.summary()"
   ]
  },
  {
   "cell_type": "code",
   "execution_count": 9,
   "id": "809d87e2",
   "metadata": {
    "execution": {
     "iopub.execute_input": "2022-10-28T01:53:42.068017Z",
     "iopub.status.busy": "2022-10-28T01:53:42.067432Z",
     "iopub.status.idle": "2022-10-28T01:54:55.303943Z",
     "shell.execute_reply": "2022-10-28T01:54:55.302565Z"
    },
    "papermill": {
     "duration": 73.246229,
     "end_time": "2022-10-28T01:54:55.306813",
     "exception": false,
     "start_time": "2022-10-28T01:53:42.060584",
     "status": "completed"
    },
    "tags": []
   },
   "outputs": [
    {
     "name": "stderr",
     "output_type": "stream",
     "text": [
      "100%|██████████| 200/200 [00:47<00:00,  4.25epoch/s, loss=0.316, accuracy=0.87, val_loss=0.337, val_accuracy=0.87]  \n"
     ]
    }
   ],
   "source": [
    "# model fit params\n",
    "epoch = 200\n",
    "\n",
    "# garbage collect, incase we're re-running the model to get the best fit\n",
    "gc.collect()\n",
    "    \n",
    "# reset model , incase we're re-running the model to get the best fit\n",
    "clear_session()\n",
    "\n",
    "# fit the keras model on the dataset\n",
    "hist = model.fit(X_train\n",
    "                  ,y_train\n",
    "                  ,epochs = epoch\n",
    "                  ,batch_size=batch_size\n",
    "                  ,shuffle=True\n",
    "                  ,validation_data=(X_test, y_test)\n",
    "                  ,verbose=0\n",
    "                  ,callbacks=[TqdmCallback(verbose=0)]\n",
    "          )\n",
    "\n",
    "# save model\n",
    "#model.save('pumpkinSeedClassification')"
   ]
  },
  {
   "cell_type": "code",
   "execution_count": 10,
   "id": "9bef3aa5",
   "metadata": {
    "execution": {
     "iopub.execute_input": "2022-10-28T01:54:55.319752Z",
     "iopub.status.busy": "2022-10-28T01:54:55.319420Z",
     "iopub.status.idle": "2022-10-28T01:54:55.325967Z",
     "shell.execute_reply": "2022-10-28T01:54:55.324430Z"
    },
    "papermill": {
     "duration": 0.016602,
     "end_time": "2022-10-28T01:54:55.328571",
     "exception": false,
     "start_time": "2022-10-28T01:54:55.311969",
     "status": "completed"
    },
    "tags": []
   },
   "outputs": [
    {
     "name": "stdout",
     "output_type": "stream",
     "text": [
      "The model has achieved an accuracy of 87.00% with 200 epochs\n"
     ]
    }
   ],
   "source": [
    "acc = '{:.2%}'.format(hist.history['accuracy'][-1])\n",
    "print(f\"The model has achieved an accuracy of {acc} with {epoch} epochs\")"
   ]
  },
  {
   "cell_type": "code",
   "execution_count": 11,
   "id": "04560b2d",
   "metadata": {
    "_kg_hide-input": true,
    "execution": {
     "iopub.execute_input": "2022-10-28T01:54:55.340537Z",
     "iopub.status.busy": "2022-10-28T01:54:55.340085Z",
     "iopub.status.idle": "2022-10-28T01:54:55.679805Z",
     "shell.execute_reply": "2022-10-28T01:54:55.679030Z"
    },
    "papermill": {
     "duration": 0.348221,
     "end_time": "2022-10-28T01:54:55.681754",
     "exception": false,
     "start_time": "2022-10-28T01:54:55.333533",
     "status": "completed"
    },
    "tags": []
   },
   "outputs": [
    {
     "data": {
      "image/png": "[encoded data removed]",
      "text/plain": [
       "<Figure size 1440x720 with 2 Axes>"
      ]
     },
     "metadata": {
      "needs_background": "light"
     },
     "output_type": "display_data"
    }
   ],
   "source": [
    "# visualize training results\n",
    "acc = hist.history['accuracy']\n",
    "val_acc = hist.history['val_accuracy']\n",
    "\n",
    "loss = hist.history['loss']\n",
    "val_loss = hist.history['val_loss']\n",
    "\n",
    "epochs_range = range(epoch)\n",
    "\n",
    "plt.figure(figsize=(20, 10))\n",
    "plt.subplot(1, 2, 1)\n",
    "plt.plot(epochs_range, acc, label='Training Accuracy')\n",
    "plt.plot(epochs_range, val_acc, label='Validation Accuracy')\n",
    "plt.legend(loc='lower right')\n",
    "plt.title('Training and Validation Accuracy')\n",
    "\n",
    "plt.subplot(1, 2, 2)\n",
    "plt.plot(epochs_range, loss, label='Training Loss')\n",
    "plt.plot(epochs_range, val_loss, label='Validation Loss')\n",
    "plt.legend(loc='upper right')\n",
    "plt.title('Training and Validation Loss')\n",
    "plt.show()"
   ]
  },
  {
   "cell_type": "markdown",
   "id": "ae1ac939",
   "metadata": {
    "papermill": {
     "duration": 0.006183,
     "end_time": "2022-10-28T01:54:55.694407",
     "exception": false,
     "start_time": "2022-10-28T01:54:55.688224",
     "status": "completed"
    },
    "tags": []
   },
   "source": [
    "**We can observe that, our model has achieved a good validation accuracy infact it is higher than the training accuracy**"
   ]
  },
  {
   "cell_type": "markdown",
   "id": "ea16b37b",
   "metadata": {
    "papermill": {
     "duration": 0.006566,
     "end_time": "2022-10-28T01:54:55.707638",
     "exception": false,
     "start_time": "2022-10-28T01:54:55.701072",
     "status": "completed"
    },
    "tags": []
   },
   "source": [
    "### Prediction & Evaluation"
   ]
  },
  {
   "cell_type": "code",
   "execution_count": 12,
   "id": "b6a4d3c2",
   "metadata": {
    "execution": {
     "iopub.execute_input": "2022-10-28T01:54:55.722791Z",
     "iopub.status.busy": "2022-10-28T01:54:55.722337Z",
     "iopub.status.idle": "2022-10-28T01:54:55.981000Z",
     "shell.execute_reply": "2022-10-28T01:54:55.980055Z"
    },
    "papermill": {
     "duration": 0.269832,
     "end_time": "2022-10-28T01:54:55.984145",
     "exception": false,
     "start_time": "2022-10-28T01:54:55.714313",
     "status": "completed"
    },
    "tags": []
   },
   "outputs": [
    {
     "name": "stdout",
     "output_type": "stream",
     "text": [
      "16/16 [==============================] - 0s 1ms/step\n"
     ]
    },
    {
     "data": {
      "image/png": "[encoded data removed]",
      "text/plain": [
       "<Figure size 576x576 with 1 Axes>"
      ]
     },
     "metadata": {
      "needs_background": "light"
     },
     "output_type": "display_data"
    }
   ],
   "source": [
    "# Predictions \n",
    "y_pred = model.predict(X_test)\n",
    "y_pred_class = [round(x[0]) for x in y_pred]\n",
    "y_test_class = y_test.reset_index(drop=True)\n",
    "\n",
    "# confusion matrix\n",
    "cfm = confusion_matrix(y_test_class, y_pred_class)\n",
    "\n",
    "# visualise confusion matrix\n",
    "plt.figure(figsize=(8,8))\n",
    "group_names = ['True Neg','False Pos','False Neg','True Pos']\n",
    "group_counts = [\"{0:0.0f}\".format(value) for value in cfm.flatten()]\n",
    "labels = [f\"{v1}\\n{v2}\" for v1, v2 in zip(group_names,group_counts)]\n",
    "sns.heatmap(cfm, annot=True, cmap='crest', cbar=False, fmt='g')\n",
    "plt.title('Confusion Matrix')\n",
    "plt.xlabel('Predicted')\n",
    "plt.ylabel('True')\n",
    "plt.show()"
   ]
  },
  {
   "cell_type": "markdown",
   "id": "68a58ea8",
   "metadata": {
    "papermill": {
     "duration": 0.011442,
     "end_time": "2022-10-28T01:54:56.006681",
     "exception": false,
     "start_time": "2022-10-28T01:54:55.995239",
     "status": "completed"
    },
    "tags": []
   },
   "source": [
    "**There are a total of 59 records for which the model has done a 'False' predictions which is approx 12% of the total Validation dataset.**"
   ]
  },
  {
   "cell_type": "code",
   "execution_count": 13,
   "id": "361e2bf3",
   "metadata": {
    "execution": {
     "iopub.execute_input": "2022-10-28T01:54:56.027365Z",
     "iopub.status.busy": "2022-10-28T01:54:56.026916Z",
     "iopub.status.idle": "2022-10-28T01:54:56.039295Z",
     "shell.execute_reply": "2022-10-28T01:54:56.037593Z"
    },
    "papermill": {
     "duration": 0.025689,
     "end_time": "2022-10-28T01:54:56.042177",
     "exception": false,
     "start_time": "2022-10-28T01:54:56.016488",
     "status": "completed"
    },
    "tags": []
   },
   "outputs": [
    {
     "name": "stdout",
     "output_type": "stream",
     "text": [
      "               precision    recall  f1-score   support\n",
      "\n",
      "   Çerçevelik       0.83      0.93      0.88       247\n",
      "Ürgüp Sivrisi       0.92      0.81      0.86       253\n",
      "\n",
      "     accuracy                           0.87       500\n",
      "    macro avg       0.87      0.87      0.87       500\n",
      " weighted avg       0.88      0.87      0.87       500\n",
      "\n"
     ]
    }
   ],
   "source": [
    "# classification report\n",
    "class_names = []\n",
    "for i in y['Class'].unique():\n",
    "    class_names.append(le.inverse_transform([i])[0])\n",
    "\n",
    "print(classification_report(y_test_class, y_pred_class, target_names=class_names))"
   ]
  }
 ],
 "metadata": {
  "kernelspec": {
   "display_name": "Python 3.10.2 64-bit",
   "language": "python",
   "name": "python3"
  },
  "language_info": {
   "codemirror_mode": {
    "name": "ipython",
    "version": 3
   },
   "file_extension": ".py",
   "mimetype": "text/x-python",
   "name": "python",
   "nbconvert_exporter": "python",
   "pygments_lexer": "ipython3",
   "version": "3.10.2"
  },
  "papermill": {
   "default_parameters": {},
   "duration": 96.191633,
   "end_time": "2022-10-28T01:54:58.899405",
   "environment_variables": {},
   "exception": null,
   "input_path": "__notebook__.ipynb",
   "output_path": "__notebook__.ipynb",
   "parameters": {},
   "start_time": "2022-10-28T01:53:22.707772",
   "version": "2.3.4"
  },
  "vscode": {
   "interpreter": {
    "hash": "27f6fea6f47ae512550f0b8facdbd035a93e1dd89633f7bf2dd00a2502c71d0d"
   }
  },
  "widgets": {
   "application/vnd.jupyter.widget-state+json": {
    "state": {
     "064810e7bf314dd2bd7093fef7ca9417": {
      "model_module": "@jupyter-widgets/controls",
      "model_module_version": "1.5.0",
      "model_name": "HTMLModel",
      "state": {
       "_dom_classes": [],
       "_model_module": "@jupyter-widgets/controls",
       "_model_module_version": "1.5.0",
       "_model_name": "HTMLModel",
       "_view_count": null,
       "_view_module": "@jupyter-widgets/controls",
       "_view_module_version": "1.5.0",
       "_view_name": "HTMLView",
       "description": "",
       "description_tooltip": null,
       "layout": "IPY_MODEL_357efaa6a7b54dc2b19ea76ea7dfbc8e",
       "placeholder": "​",
       "style": "IPY_MODEL_5e75e3be70c149a69b4c542eefa5c92b",
       "value": " 200/200 [01:12&lt;00:00,  3.23epoch/s, loss=0.319, accuracy=0.873, val_loss=0.327, val_accuracy=0.866]"
      }
     },
     "357efaa6a7b54dc2b19ea76ea7dfbc8e": {
      "model_module": "@jupyter-widgets/base",
      "model_module_version": "1.2.0",
      "model_name": "LayoutModel",
      "state": {
       "_model_module": "@jupyter-widgets/base",
       "_model_module_version": "1.2.0",
       "_model_name": "LayoutModel",
       "_view_count": null,
       "_view_module": "@jupyter-widgets/base",
       "_view_module_version": "1.2.0",
       "_view_name": "LayoutView",
       "align_content": null,
       "align_items": null,
       "align_self": null,
       "border": null,
       "bottom": null,
       "display": null,
       "flex": null,
       "flex_flow": null,
       "grid_area": null,
       "grid_auto_columns": null,
       "grid_auto_flow": null,
       "grid_auto_rows": null,
       "grid_column": null,
       "grid_gap": null,
       "grid_row": null,
       "grid_template_areas": null,
       "grid_template_columns": null,
       "grid_template_rows": null,
       "height": null,
       "justify_content": null,
       "justify_items": null,
       "left": null,
       "margin": null,
       "max_height": null,
       "max_width": null,
       "min_height": null,
       "min_width": null,
       "object_fit": null,
       "object_position": null,
       "order": null,
       "overflow": null,
       "overflow_x": null,
       "overflow_y": null,
       "padding": null,
       "right": null,
       "top": null,
       "visibility": null,
       "width": null
      }
     },
     "39626a60fe0d40b6be0853088c9e1bfb": {
      "model_module": "@jupyter-widgets/controls",
      "model_module_version": "1.5.0",
      "model_name": "HBoxModel",
      "state": {
       "_dom_classes": [],
       "_model_module": "@jupyter-widgets/controls",
       "_model_module_version": "1.5.0",
       "_model_name": "HBoxModel",
       "_view_count": null,
       "_view_module": "@jupyter-widgets/controls",
       "_view_module_version": "1.5.0",
       "_view_name": "HBoxView",
       "box_style": "",
       "children": [
        "IPY_MODEL_dc1f755682fd4fc7a5f70f0d08e9d26a",
        "IPY_MODEL_51ba42f03e1546adaa179b677ca705eb",
        "IPY_MODEL_064810e7bf314dd2bd7093fef7ca9417"
       ],
       "layout": "IPY_MODEL_5343a97fec4a436a81c3676ebeefe841"
      }
     },
     "51ba42f03e1546adaa179b677ca705eb": {
      "model_module": "@jupyter-widgets/controls",
      "model_module_version": "1.5.0",
      "model_name": "FloatProgressModel",
      "state": {
       "_dom_classes": [],
       "_model_module": "@jupyter-widgets/controls",
       "_model_module_version": "1.5.0",
       "_model_name": "FloatProgressModel",
       "_view_count": null,
       "_view_module": "@jupyter-widgets/controls",
       "_view_module_version": "1.5.0",
       "_view_name": "ProgressView",
       "bar_style": "success",
       "description": "",
       "description_tooltip": null,
       "layout": "IPY_MODEL_d688013ba0a246808a2a710c378e1a65",
       "max": 200,
       "min": 0,
       "orientation": "horizontal",
       "style": "IPY_MODEL_656ddc11872348d2a0c2cdbddbae0583",
       "value": 200
      }
     },
     "5343a97fec4a436a81c3676ebeefe841": {
      "model_module": "@jupyter-widgets/base",
      "model_module_version": "1.2.0",
      "model_name": "LayoutModel",
      "state": {
       "_model_module": "@jupyter-widgets/base",
       "_model_module_version": "1.2.0",
       "_model_name": "LayoutModel",
       "_view_count": null,
       "_view_module": "@jupyter-widgets/base",
       "_view_module_version": "1.2.0",
       "_view_name": "LayoutView",
       "align_content": null,
       "align_items": null,
       "align_self": null,
       "border": null,
       "bottom": null,
       "display": null,
       "flex": null,
       "flex_flow": null,
       "grid_area": null,
       "grid_auto_columns": null,
       "grid_auto_flow": null,
       "grid_auto_rows": null,
       "grid_column": null,
       "grid_gap": null,
       "grid_row": null,
       "grid_template_areas": null,
       "grid_template_columns": null,
       "grid_template_rows": null,
       "height": null,
       "justify_content": null,
       "justify_items": null,
       "left": null,
       "margin": null,
       "max_height": null,
       "max_width": null,
       "min_height": null,
       "min_width": null,
       "object_fit": null,
       "object_position": null,
       "order": null,
       "overflow": null,
       "overflow_x": null,
       "overflow_y": null,
       "padding": null,
       "right": null,
       "top": null,
       "visibility": null,
       "width": null
      }
     },
     "5e75e3be70c149a69b4c542eefa5c92b": {
      "model_module": "@jupyter-widgets/controls",
      "model_module_version": "1.5.0",
      "model_name": "DescriptionStyleModel",
      "state": {
       "_model_module": "@jupyter-widgets/controls",
       "_model_module_version": "1.5.0",
       "_model_name": "DescriptionStyleModel",
       "_view_count": null,
       "_view_module": "@jupyter-widgets/base",
       "_view_module_version": "1.2.0",
       "_view_name": "StyleView",
       "description_width": ""
      }
     },
     "656ddc11872348d2a0c2cdbddbae0583": {
      "model_module": "@jupyter-widgets/controls",
      "model_module_version": "1.5.0",
      "model_name": "ProgressStyleModel",
      "state": {
       "_model_module": "@jupyter-widgets/controls",
       "_model_module_version": "1.5.0",
       "_model_name": "ProgressStyleModel",
       "_view_count": null,
       "_view_module": "@jupyter-widgets/base",
       "_view_module_version": "1.2.0",
       "_view_name": "StyleView",
       "bar_color": null,
       "description_width": ""
      }
     },
     "d688013ba0a246808a2a710c378e1a65": {
      "model_module": "@jupyter-widgets/base",
      "model_module_version": "1.2.0",
      "model_name": "LayoutModel",
      "state": {
       "_model_module": "@jupyter-widgets/base",
       "_model_module_version": "1.2.0",
       "_model_name": "LayoutModel",
       "_view_count": null,
       "_view_module": "@jupyter-widgets/base",
       "_view_module_version": "1.2.0",
       "_view_name": "LayoutView",
       "align_content": null,
       "align_items": null,
       "align_self": null,
       "border": null,
       "bottom": null,
       "display": null,
       "flex": null,
       "flex_flow": null,
       "grid_area": null,
       "grid_auto_columns": null,
       "grid_auto_flow": null,
       "grid_auto_rows": null,
       "grid_column": null,
       "grid_gap": null,
       "grid_row": null,
       "grid_template_areas": null,
       "grid_template_columns": null,
       "grid_template_rows": null,
       "height": null,
       "justify_content": null,
       "justify_items": null,
       "left": null,
       "margin": null,
       "max_height": null,
       "max_width": null,
       "min_height": null,
       "min_width": null,
       "object_fit": null,
       "object_position": null,
       "order": null,
       "overflow": null,
       "overflow_x": null,
       "overflow_y": null,
       "padding": null,
       "right": null,
       "top": null,
       "visibility": null,
       "width": null
      }
     },
     "dc1f755682fd4fc7a5f70f0d08e9d26a": {
      "model_module": "@jupyter-widgets/controls",
      "model_module_version": "1.5.0",
      "model_name": "HTMLModel",
      "state": {
       "_dom_classes": [],
       "_model_module": "@jupyter-widgets/controls",
       "_model_module_version": "1.5.0",
       "_model_name": "HTMLModel",
       "_view_count": null,
       "_view_module": "@jupyter-widgets/controls",
       "_view_module_version": "1.5.0",
       "_view_name": "HTMLView",
       "description": "",
       "description_tooltip": null,
       "layout": "IPY_MODEL_ea99d76426c34145be175a1ae1d60187",
       "placeholder": "​",
       "style": "IPY_MODEL_ee71d4712fe94bf3bde809235661b759",
       "value": "100%"
      }
     },
     "ea99d76426c34145be175a1ae1d60187": {
      "model_module": "@jupyter-widgets/base",
      "model_module_version": "1.2.0",
      "model_name": "LayoutModel",
      "state": {
       "_model_module": "@jupyter-widgets/base",
       "_model_module_version": "1.2.0",
       "_model_name": "LayoutModel",
       "_view_count": null,
       "_view_module": "@jupyter-widgets/base",
       "_view_module_version": "1.2.0",
       "_view_name": "LayoutView",
       "align_content": null,
       "align_items": null,
       "align_self": null,
       "border": null,
       "bottom": null,
       "display": null,
       "flex": null,
       "flex_flow": null,
       "grid_area": null,
       "grid_auto_columns": null,
       "grid_auto_flow": null,
       "grid_auto_rows": null,
       "grid_column": null,
       "grid_gap": null,
       "grid_row": null,
       "grid_template_areas": null,
       "grid_template_columns": null,
       "grid_template_rows": null,
       "height": null,
       "justify_content": null,
       "justify_items": null,
       "left": null,
       "margin": null,
       "max_height": null,
       "max_width": null,
       "min_height": null,
       "min_width": null,
       "object_fit": null,
       "object_position": null,
       "order": null,
       "overflow": null,
       "overflow_x": null,
       "overflow_y": null,
       "padding": null,
       "right": null,
       "top": null,
       "visibility": null,
       "width": null
      }
     },
     "ee71d4712fe94bf3bde809235661b759": {
      "model_module": "@jupyter-widgets/controls",
      "model_module_version": "1.5.0",
      "model_name": "DescriptionStyleModel",
      "state": {
       "_model_module": "@jupyter-widgets/controls",
       "_model_module_version": "1.5.0",
       "_model_name": "DescriptionStyleModel",
       "_view_count": null,
       "_view_module": "@jupyter-widgets/base",
       "_view_module_version": "1.2.0",
       "_view_name": "StyleView",
       "description_width": ""
      }
     }
    },
    "version_major": 2,
    "version_minor": 0
   }
  }
 },
 "nbformat": 4,
 "nbformat_minor": 5
}
